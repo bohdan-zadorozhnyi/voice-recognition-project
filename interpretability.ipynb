{
 "cells": [
  {
   "cell_type": "code",
   "execution_count": null,
   "metadata": {},
   "outputs": [],
   "source": [
    "import tensorflow as tf\n",
    "import numpy as np\n",
    "\n",
    "import matplotlib.pyplot as plt"
   ]
  },
  {
   "cell_type": "code",
   "execution_count": null,
   "metadata": {},
   "outputs": [],
   "source": [
    "# Visualize the behavior and function of individual CNN layers\n",
    "\n",
    "# Function to create a model that outputs intermediate activations\n",
    "def create_activation_model(model):\n",
    "    layer_outputs = [layer.output for layer in model.layers]\n",
    "    activation_model = tf.keras.models.Model(inputs=model.input, outputs=layer_outputs)\n",
    "    return activation_model\n",
    "\n",
    "# Function to plot the feature maps\n",
    "def plot_feature_maps(activations, layer_names, images_per_row=8):\n",
    "    for layer_name, layer_activation in zip(layer_names, activations):\n",
    "        n_features = layer_activation.shape[-1]\n",
    "        size = layer_activation.shape[1]\n",
    "        n_cols = n_features // images_per_row\n",
    "        display_grid = np.zeros((size * n_cols, images_per_row * size))\n",
    "        for col in range(n_cols):\n",
    "            for row in range(images_per_row):\n",
    "                channel_image = layer_activation[0, :, :, col * images_per_row + row]\n",
    "                channel_image -= channel_image.mean()\n",
    "                channel_image /= channel_image.std()\n",
    "                channel_image *= 64\n",
    "                channel_image += 128\n",
    "                channel_image = np.clip(channel_image, 0, 255).astype('uint8')\n",
    "                display_grid[col * size : (col + 1) * size,\n",
    "                             row * size : (row + 1) * size] = channel_image\n",
    "        scale = 1. / size\n",
    "        plt.figure(figsize=(scale * display_grid.shape[1], scale * display_grid.shape[0]))\n",
    "        plt.title(layer_name)\n",
    "        plt.grid(False)\n",
    "        plt.imshow(display_grid, aspect='auto', cmap='viridis')\n",
    "\n",
    "# Create a model that outputs intermediate activations\n",
    "activation_model = create_activation_model(created_models[0])\n",
    "\n",
    "# Get the names of the layers\n",
    "layer_names = [layer.name for layer in created_models[0].layers]\n",
    "\n",
    "# Select an image from the test set\n",
    "for example_spectrograms, example_spect_labels in test_spectrogram_ds.take(1):\n",
    "    example_image = example_spectrograms[0]\n",
    "\n",
    "# Get the activations of the selected image\n",
    "activations = activation_model.predict(tf.expand_dims(example_image, axis=0))\n",
    "\n",
    "# Plot the feature maps\n",
    "plot_feature_maps(activations, layer_names)"
   ]
  }
 ],
 "metadata": {
  "kernelspec": {
   "display_name": "ml",
   "language": "python",
   "name": "python3"
  },
  "language_info": {
   "name": "python",
   "version": "3.12.7"
  }
 },
 "nbformat": 4,
 "nbformat_minor": 2
}
